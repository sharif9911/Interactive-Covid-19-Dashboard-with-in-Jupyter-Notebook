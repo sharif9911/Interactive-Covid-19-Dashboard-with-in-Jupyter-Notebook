{
 "cells": [
  {
   "cell_type": "code",
   "execution_count": 2,
   "id": "542f5070",
   "metadata": {},
   "outputs": [
    {
     "data": {
      "text/html": [
       "        <script type=\"text/javascript\">\n",
       "        window.PlotlyConfig = {MathJaxConfig: 'local'};\n",
       "        if (window.MathJax) {MathJax.Hub.Config({SVG: {font: \"STIX-Web\"}});}\n",
       "        if (typeof require !== 'undefined') {\n",
       "        require.undef(\"plotly\");\n",
       "        requirejs.config({\n",
       "            paths: {\n",
       "                'plotly': ['https://cdn.plot.ly/plotly-latest.min']\n",
       "            }\n",
       "        });\n",
       "        require(['plotly'], function(Plotly) {\n",
       "            window._Plotly = Plotly;\n",
       "        });\n",
       "        }\n",
       "        </script>\n",
       "        "
      ]
     },
     "metadata": {},
     "output_type": "display_data"
    },
    {
     "data": {
      "text/html": [
       "        <script type=\"text/javascript\">\n",
       "        window.PlotlyConfig = {MathJaxConfig: 'local'};\n",
       "        if (window.MathJax) {MathJax.Hub.Config({SVG: {font: \"STIX-Web\"}});}\n",
       "        if (typeof require !== 'undefined') {\n",
       "        require.undef(\"plotly\");\n",
       "        requirejs.config({\n",
       "            paths: {\n",
       "                'plotly': ['https://cdn.plot.ly/plotly-latest.min']\n",
       "            }\n",
       "        });\n",
       "        require(['plotly'], function(Plotly) {\n",
       "            window._Plotly = Plotly;\n",
       "        });\n",
       "        }\n",
       "        </script>\n",
       "        "
      ]
     },
     "metadata": {},
     "output_type": "display_data"
    }
   ],
   "source": [
    "import ipywidgets\n",
    "from ipywidgets import interact, IntSlider, interactive, widgets, interact_manual, HBox, fixed\n",
    "from IPython.display import HTML\n",
    "import warnings\n",
    "warnings.filterwarnings('ignore')\n",
    "layout = widgets.Layout(width='400px', height='30px')\n",
    "# HIDING All the snippets\n",
    "import pandas as pd\n",
    "import matplotlib.pyplot as plt\n",
    "# import statsmodels.graphics.tsaplots as sgt\n",
    "# import statsmodels.tsa.stattools as sts\n",
    "# from statsmodels.tsa.seasonal import seasonal_decompose\n",
    "import numpy as np\n",
    "# import seaborn as sns\n",
    "# import pylab\n",
    "# import scipy.stats\n",
    "#sns.set()\n",
    "from pandas.plotting import register_matplotlib_converters\n",
    "register_matplotlib_converters()\n",
    "%matplotlib inline\n",
    "from plotly.offline import iplot\n",
    "import chart_studio.plotly as py\n",
    "from plotly.offline import download_plotlyjs, init_notebook_mode, plot, iplot\n",
    "init_notebook_mode(connected=True)\n",
    "import cufflinks as cf\n",
    "cf.go_offline()\n",
    "import plotly.express as px\n",
    "import plotly.graph_objects as go\n",
    "import json\n",
    "from urllib.request import urlopen\n",
    "from fbprophet import Prophet\n"
   ]
  },
  {
   "cell_type": "code",
   "execution_count": 3,
   "id": "769c216e",
   "metadata": {},
   "outputs": [],
   "source": [
    "#Extracting and Preprocessing Data from Covid-19 API\n",
    "df = pd.read_csv('https://api.covid19india.org/csv/latest/states.csv')\n",
    "df = df[df.State != 'India']\n",
    "df = df[df.State != 'State Unassigned']\n",
    "df.drop(['Other','Tested'],axis=1,inplace=True)\n",
    "df.rename(columns={'Recovered': 'Discharged','Deceased': 'Death'},inplace = True)\n",
    "df['Active'] = df.apply(lambda row: row.Confirmed - (row.Discharged + row.Death), axis = 1)\n",
    "df_o = df.copy()\n",
    "df.Date = pd.to_datetime(df.Date)\n",
    "df.set_index(\"Date\", inplace = True)\n",
    "df = df[['State','Confirmed','Death','Active','Discharged']]\n",
    "#Classifying The DataFrame to distribute the data among states of India\n",
    "states = df.groupby('State')\n",
    "state={}\n",
    "l=[]\n",
    "for i,j in states:\n",
    "    state[i] = j[-365:]\n",
    "for i,j in state.items():\n",
    "    l.append(i)\n",
    "del states\n",
    "states_list = l\n",
    "\n",
    "# Setting dialy frequency State-wise and filling the Data for the dates which are not recorded(missed), with previous date data. \n",
    "for i in state.keys():\n",
    "    tdf = state[i]\n",
    "    tdf = tdf[['Confirmed','Death','Active','Discharged']].astype(int)\n",
    "    tdf = tdf.asfreq('d')\n",
    "    state[i] = tdf.fillna(method = 'ffill')\n",
    "min_date = state['Goa'].index.min()\n",
    "max_date = state['Goa'].index.max()\n",
    "pdf = df_o.copy()\n",
    "pdf = pdf[['Date','State','Confirmed','Death','Active','Discharged']]\n",
    "#Classifying The DataFrame to distribute the data among states of India\n",
    "pstates = pdf.groupby('State')\n",
    "pstate={}\n",
    "for i,j in pstates:\n",
    "    pstate[i] = j[-365:]\n"
   ]
  },
  {
   "cell_type": "code",
   "execution_count": 4,
   "id": "d33600f8",
   "metadata": {},
   "outputs": [
    {
     "name": "stderr",
     "output_type": "stream",
     "text": [
      "INFO:numexpr.utils:NumExpr defaulting to 4 threads.\n"
     ]
    }
   ],
   "source": [
    "#Preparng Dataframes for forecasting data of next 30 days\n",
    "\n",
    "fut_state={}\n",
    "\n",
    "for i,j in pstate.items():\n",
    "    fd = pd.DataFrame(columns=['Date','Confirmed', 'Death', 'Discharged'])\n",
    "    for k in ['Confirmed','Death','Discharged']:\n",
    "        ts_d = j[['Date',k]][-50:].copy()\n",
    "        ts_d.rename(columns={'Date':'ds',k:'y'}, inplace=True)\n",
    "        m= Prophet(interval_width = 0.95,daily_seasonality = True, yearly_seasonality = False)\n",
    "        m.fit(ts_d) \n",
    "        future = m.make_future_dataframe(periods=30) \n",
    "        forecast = m.predict(future)\n",
    "        fd['Date']=forecast.ds[-30:]\n",
    "        fd[k]=forecast.yhat[-30:]\n",
    "        del m\n",
    "    j = j.append(fd,ignore_index = True)\n",
    "    j.Date = pd.to_datetime(j.Date)\n",
    "    j.set_index(\"Date\", inplace = True)\n",
    "    j = j[['Confirmed','Death','Discharged']].astype(int)\n",
    "    j = j[['Confirmed','Death','Discharged']]\n",
    "    fut_state[i] = j\n"
   ]
  },
  {
   "cell_type": "code",
   "execution_count": 5,
   "id": "ad04182a",
   "metadata": {},
   "outputs": [],
   "source": [
    "#Prediction Analysis\n",
    "select_state = widgets.Dropdown(\n",
    "    options=states_list,\n",
    "    value='Telangana',\n",
    "    description='Select State:',\n",
    "    disabled=False,\n",
    "    )    \n",
    "def plotg(select_state):\n",
    "    print('Showing Scatter PLOT for the coming 30 Days of ',select_state.upper(),'State',' (predicted using FBPROPHET)')\n",
    "    fut_state[select_state].iplot(xTitle='<----  Date  ---->', yTitle='<----  Number of Cases  ---->',\n",
    "                 title = select_state, width=5,dash=['dash','dot','dashdot'])\n",
    "    \n",
    "#interact(plotg,select_state=select_state)"
   ]
  },
  {
   "cell_type": "code",
   "execution_count": 6,
   "id": "7fedfa9f",
   "metadata": {},
   "outputs": [],
   "source": [
    "#Daily Analysis\n",
    "#Creating widgets and Dahboard Functions\n",
    "#Extracting Geojson file for states of India\n",
    "with urlopen('https://raw.githubusercontent.com/sharif9911/Interactive-Covid-19-India--Dashboard-with-in-Jupyter-Notebook/main/states_india.geojson') as response:\n",
    "    counties = json.load(response)\n",
    "select_date = df.index.max()\n",
    "select_date = widgets.DatePicker(\n",
    "    description='Pick a Date',\n",
    "    disabled=False,\n",
    ")\n",
    "kinda_cat=widgets.ToggleButtons(\n",
    "    options=['Confirmed', 'Active', 'Death', 'Discharged'],\n",
    "    description='Category:',\n",
    "    disabled=False,\n",
    "    button_style='success', # 'success', 'info', 'warning', 'danger' or ''\n",
    "    #     tooltips=['Sc', 'Bar', 'Box],\n",
    "    #icons=['check'] * 3\n",
    "    )\n",
    "\n",
    "view=widgets.ToggleButtons(\n",
    "    options=['BAR view','MAP view'],\n",
    "    description='Plot Type:',\n",
    "    disabled=False,\n",
    "    button_style='', # 'success', 'info', 'warning', 'danger' or ''\n",
    "    #     tooltips=['Sc', 'Bar', 'Box],\n",
    "    #icons=['check'] * 3\n",
    "    )\n",
    "def day_bar(select_date,view):\n",
    "    if(select_date == None):\n",
    "        select_date= max_date\n",
    "    if(select_date < df.index.min() or select_date > df.index.max()):\n",
    "        print('PLEASE PICK A VALID DATE IN THE CALENDAR i.e From   ',str(min_date)[:10],'  to  ' ,str(max_date)[:10],'\\n ----Refer to the Database for more Information!')\n",
    "        return\n",
    "    t_df = pd.DataFrame(columns=['Confirmed', 'Active', 'Death', 'Discharged'])\n",
    "    for i,j in state.items():\n",
    "        t_df.loc[i]= j.loc[str(select_date)]\n",
    "        t_df = t_df[['Confirmed','Death','Active','Discharged']].astype(int)\n",
    "    theme= {'Discharged' : 'sunset', 'Active' : 'picnic', 'Death' : 'reds', 'Confirmed': 'turbid'}\n",
    "    def plot_bar(kinda_cat):\n",
    "        if view =='BAR view':\n",
    "            fig = px.bar(t_df,x=t_df.index, y=kinda_cat, text=kinda_cat, color=t_df.index,title= kinda_cat + ' Cases on '+ str(select_date)[:10],\n",
    "                labels={'index': 'State', 'Active': str(kinda_cat + ' cases')},width=1400,height=900)\n",
    "\n",
    "            fig.update_traces(texttemplate='%{text:.2s}', textposition='outside')\n",
    "            fig.update_layout(uniformtext_minsize=8, xaxis_tickangle=-45)\n",
    "            fig.show()\n",
    "        else:\n",
    "            fig = px.choropleth(t_df, geojson=counties, locations=t_df.index, color=kinda_cat,\n",
    "                           color_continuous_scale=theme[kinda_cat],\n",
    "                           featureidkey='properties.ST_NM',\n",
    "                        labels={'index':'State'}, title='Map Showing '+kinda_cat+' Cases on '+str(select_date)[:10]\n",
    "                          )\n",
    "            fig.update_geos(fitbounds=\"locations\", visible=False,  showsubunits=True, subunitcolor=\"Green\")\n",
    "            fig.show()\n",
    "            \n",
    "    interact(plot_bar, kinda_cat=kinda_cat)\n",
    "# interact(day_bar, select_date=select_date,view = view)"
   ]
  },
  {
   "cell_type": "code",
   "execution_count": 7,
   "id": "aa627449",
   "metadata": {
    "scrolled": false
   },
   "outputs": [],
   "source": [
    "#State-wise Analysis\n",
    "def stategraph():\n",
    "    select_state = widgets.Dropdown(\n",
    "    options=states_list,\n",
    "    value='Telangana',\n",
    "    description='Select State:',\n",
    "    disabled=False,\n",
    "    )\n",
    "    \n",
    "    kinda_plot=widgets.ToggleButtons(\n",
    "    options=['Scatter Plot', 'Box Plot', 'Bar Plot','Pie Plot'],\n",
    "    description='Plot Type:',\n",
    "    disabled=False,\n",
    "    button_style='info', # 'success', 'info', 'warning', 'danger' or ''\n",
    "    #     tooltips=['Sc', 'Bar', 'Box],\n",
    "    #icons=['check'] * 3\n",
    "    )\n",
    "    \n",
    "    \n",
    "    def printgraph(select_state,kinda_plot):\n",
    "        date_range = widgets.IntRangeSlider(\n",
    "        value=[0, state[select_state].count().max()],\n",
    "        min=0,\n",
    "        max=state[select_state].count().max()-1,\n",
    "        step=1,\n",
    "        disabled=False,\n",
    "        description='Period:',\n",
    "        continuous_update=False,\n",
    "        layout=widgets.Layout(width='90%'),\n",
    "        orientation='horizontal',\n",
    "        readout=False,\n",
    "        readout_format='d'\n",
    "        )\n",
    "        def plot(date_range):\n",
    "            if kinda_plot != 'Pie Plot':\n",
    "                print('Showing',kinda_plot,'from','\\t',str(state[select_state].index[date_range[0]])[:10],\n",
    "                  '\\t\\t','TO','\\t\\t',str(state[select_state].index[date_range[1]])[:10])\n",
    "                state[select_state].iloc[date_range[0]:date_range[1]].iplot(kind = kinda_plot.split()[0].lower(),\n",
    "                xTitle='<----  Date  ---->', yTitle='<----  Number of Cases  ---->',\n",
    "                title = select_state, width=5,dash=['solid','dash','dot','dashdot'],\n",
    "                )\n",
    "            else:\n",
    "                print('!! Please move the Right Extreme pointer to change period !!\\n')\n",
    "                print('Showing',kinda_plot,'on',str(state[select_state].index[  max(date_range[0],date_range[1]) ])[:10],' for '+select_state.upper())\n",
    "                colors = ['blue', 'black', 'red', 'green']\n",
    "                fig = go.Figure(data=[go.Pie(labels=['Confirmed','Death','Active','Discharged'], \n",
    "                       values=state[select_state].iloc[ max(date_range[0],date_range[1]) ])])\n",
    "                # Define hover info, text size, pull amount for each pie slice, and stroke\n",
    "                fig.update_traces(hoverinfo='label+value', textfont_size=20,\n",
    "                  textinfo='label+percent', pull=[0, 0, 0.1, 0.1],\n",
    "                  marker=dict(colors=colors, line=dict(color='#FFFFFF', width=2)))\n",
    "                fig.show()\n",
    "            \n",
    "        interact(plot,date_range=date_range)\n",
    "    interact(printgraph,select_state=select_state,kinda_plot=kinda_plot)\n",
    "    \n",
    "#interact(stategraph)"
   ]
  },
  {
   "cell_type": "markdown",
   "id": "11231015",
   "metadata": {},
   "source": [
    "![Image of Institution](http://www.griet.ac.in/images/GRIET_Logo.png)"
   ]
  },
  {
   "cell_type": "markdown",
   "id": "863d9fe4",
   "metadata": {},
   "source": [
    "## Dashboard for Analysis of Covid-19 cases until `Yesterday*"
   ]
  },
  {
   "cell_type": "code",
   "execution_count": 8,
   "id": "cc1a7077",
   "metadata": {
    "scrolled": false
   },
   "outputs": [
    {
     "data": {
      "application/vnd.jupyter.widget-view+json": {
       "model_id": "98523bf9e6d04b728498ab5a83ca805a",
       "version_major": 2,
       "version_minor": 0
      },
      "text/plain": [
       "interactive(children=(ToggleButtons(button_style='warning', description='Analysis:', options=('Past Analysis',…"
      ]
     },
     "metadata": {},
     "output_type": "display_data"
    },
    {
     "data": {
      "text/plain": [
       "<function __main__.analy(select_analysis)>"
      ]
     },
     "execution_count": 8,
     "metadata": {},
     "output_type": "execute_result"
    }
   ],
   "source": [
    "#Main Interface of Dashboard\n",
    "select_analysis = widgets.ToggleButtons(\n",
    "    options=['Past Analysis', 'Prediction Analysis'],\n",
    "    description='Analysis:',\n",
    "    disabled=False,\n",
    "    button_style='warning', # 'success', 'info', 'warning', 'danger' or ''\n",
    "    #     tooltips=['Sc', 'Bar', 'Box],\n",
    "    #icons=['check'] * 3\n",
    "    )\n",
    "def analy(select_analysis):\n",
    "    if(select_analysis[1] == 'a'):\n",
    "        past = widgets.ToggleButtons(\n",
    "        options=['State-wise Analysis', 'Daily Analysis'],\n",
    "        description='Type:',\n",
    "        disabled=False,\n",
    "        button_style='danger', # 'success', 'info', 'warning', 'danger' or ''\n",
    "        #     tooltips=['Sc', 'Bar', 'Box],\n",
    "        #icons=['check'] * 3\n",
    "        )\n",
    "        \n",
    "        def p_analy(past):\n",
    "            if past[0]=='S':\n",
    "                interact(stategraph)\n",
    "            else:\n",
    "                interact(day_bar, select_date=select_date,view = view)\n",
    "        interact(p_analy,past=past)\n",
    "    else:\n",
    "        interact(plotg,select_state=select_state)\n",
    "interact(analy,select_analysis=select_analysis)"
   ]
  },
  {
   "cell_type": "code",
   "execution_count": 9,
   "id": "16a2fd7c",
   "metadata": {},
   "outputs": [
    {
     "data": {
      "text/html": [
       "<style>.container { width:100% !important; }</style>"
      ],
      "text/plain": [
       "<IPython.core.display.HTML object>"
      ]
     },
     "metadata": {},
     "output_type": "display_data"
    },
    {
     "data": {
      "text/html": [
       "<script>\n",
       "code_show=true; \n",
       "function code_toggle() {\n",
       " if (code_show){\n",
       " $('div.input').hide();\n",
       " } else {\n",
       " $('div.input').show();\n",
       " }\n",
       " code_show = !code_show\n",
       "} \n",
       "$( document ).ready(code_toggle);\n",
       "</script>\n",
       "<form action=\"javascript:code_toggle()\"><input type=\"submit\" value=\"Click here to toggle user/developer mode.\"></form>"
      ],
      "text/plain": [
       "<IPython.core.display.HTML object>"
      ]
     },
     "execution_count": 9,
     "metadata": {},
     "output_type": "execute_result"
    }
   ],
   "source": [
    "display(HTML(\"<style>.container { width:100% !important; }</style>\"))\n",
    "HTML('''<script>\n",
    "code_show=true; \n",
    "function code_toggle() {\n",
    " if (code_show){\n",
    " $('div.input').hide();\n",
    " } else {\n",
    " $('div.input').show();\n",
    " }\n",
    " code_show = !code_show\n",
    "} \n",
    "$( document ).ready(code_toggle);\n",
    "</script>\n",
    "<form action=\"javascript:code_toggle()\"><input type=\"submit\" value=\"Click here to toggle user/developer mode.\"></form>''')"
   ]
  }
 ],
 "metadata": {
  "kernelspec": {
   "display_name": "Python 3",
   "language": "python",
   "name": "python3"
  }
 },
 "nbformat": 4,
 "nbformat_minor": 5
}
